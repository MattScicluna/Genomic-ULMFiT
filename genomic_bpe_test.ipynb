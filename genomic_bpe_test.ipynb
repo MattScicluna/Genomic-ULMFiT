{
 "cells": [
  {
   "cell_type": "markdown",
   "metadata": {},
   "source": [
    "# Genomic BPE Tests"
   ]
  },
  {
   "cell_type": "code",
   "execution_count": null,
   "metadata": {},
   "outputs": [],
   "source": [
    "from pathlib import Path\n",
    "import collections\n",
    "\n",
    "from Bio import SeqIO\n",
    "from fastai.text import *\n",
    "\n",
    "import sentencepiece as spm"
   ]
  },
  {
   "cell_type": "code",
   "execution_count": null,
   "metadata": {},
   "outputs": [],
   "source": [
    "max_sentence_len=20480 #arbitrary number chosen. Original true \"max sentence length\" would be 44674217"
   ]
  },
  {
   "cell_type": "code",
   "execution_count": null,
   "metadata": {},
   "outputs": [],
   "source": [
    "path = Path('/mnt/wd_4tb/shared_disk_wd4tb/mattscicluna/data/genomic_ulmfit/bacterial_genomes')\n",
    "path_to_files = path / 'genome_fastas'"
   ]
  },
  {
   "cell_type": "code",
   "execution_count": null,
   "metadata": {},
   "outputs": [],
   "source": [
    "for i, file in enumerate(path_to_files.iterdir()):\n",
    "    genome = SeqIO.parse(file, 'fasta')\n",
    "    chroms = [GB for GB in genome if 'chromosome' in GB.description] #  remove plasmid\n",
    "    genome = ''.join([i.seq.__str__() for i in chroms]).upper()\n",
    "    genome += '\\n'\n",
    "    with open('/mnt/wd_4tb/shared_disk_wd4tb/mattscicluna/data/genomic_ulmfit/bacterial_genomes/sentencepiece_tokenizer/all_files.txt', 'a') as f:\n",
    "        ind = 0\n",
    "        while ind < len(genome):\n",
    "            f.write(genome[ind:ind+max_sentence_len])\n",
    "            f.write('\\n')\n",
    "            ind += max_sentence_len\n",
    "    print('completed file {}/{}'.format(i,len(path_to_files.ls())))"
   ]
  },
  {
   "cell_type": "code",
   "execution_count": null,
   "metadata": {},
   "outputs": [],
   "source": [
    "quotemark = '\\\"'\n",
    "raw_text_path = '/mnt/wd_4tb/shared_disk_wd4tb/mattscicluna/data/genomic_ulmfit/bacterial_genomes/sentencepiece_tokenizer/small_version_all_files.txt'\n",
    "lang = 'dna'\n",
    "pre_rules=None\n",
    "post_rules=None\n",
    "vocab_sz=None\n",
    "max_vocab_sz=10000\n",
    "model_type='bpe'\n",
    "char_coverage=None\n",
    "tmp_dir='tmp' \n",
    "enc='utf8'\n",
    "coverage = 0.9998\n",
    "spec_tokens = ['\\u2581'+s for s in defaults.text_spec_tok]\n",
    "spec_tokens.extend([str(i) for i in range(1, 21)])\n",
    "cache_dir = Path('/mnt/wd_4tb/shared_disk_wd4tb/mattscicluna/data/genomic_ulmfit/bacterial_genomes/sentencepiece_tokenizer')/tmp_dir\n",
    "\n",
    "#changed line in fastai.text see: https://forums.fast.ai/t/multifit-runtime-error-permission-denied/72874/3\n",
    "# in the end not creating model thru fastai. using sentencepiece package directly!\n",
    "print(\" \".join([\n",
    "        f\"--input={quotemark}{raw_text_path}{quotemark} --max_sentence_length={max_sentence_len}\",\n",
    "        f\"--character_coverage={coverage}\",\n",
    "        f\"--unk_id={len(defaults.text_spec_tok)} --pad_id=-1 --bos_id=-1 --eos_id=-1\",\n",
    "        f\"--user_defined_symbols={','.join(spec_tokens)}\",\n",
    "        f\"--model_prefix={cache_dir/'spm'} --vocab_size={10000} --model_type={model_type}\"]))\n",
    "\n",
    "spm.SentencePieceTrainer.Train(\" \".join([\n",
    "        f\"--input={quotemark}{raw_text_path}{quotemark} --max_sentence_length={max_sentence_len}\",\n",
    "        f\"--character_coverage={coverage}\",\n",
    "        f\"--unk_id={len(defaults.text_spec_tok)} --pad_id=-1 --bos_id=-1 --eos_id=-1\",\n",
    "        f\"--user_defined_symbols={','.join(spec_tokens)}\",\n",
    "        f\"--model_prefix={cache_dir/'spm'} --vocab_size={10000} --model_type={model_type}\"]))"
   ]
  },
  {
   "cell_type": "code",
   "execution_count": null,
   "metadata": {},
   "outputs": [],
   "source": [
    "import sentencepiece as spm\n",
    "s = spm.SentencePieceProcessor(model_file='/mnt/wd_4tb/shared_disk_wd4tb/mattscicluna/data/genomic_ulmfit/bacterial_genomes/sentencepiece_tokenizer/tmp/spm.model')"
   ]
  },
  {
   "cell_type": "code",
   "execution_count": null,
   "metadata": {},
   "outputs": [],
   "source": [
    "vocabs = [[s.id_to_piece(id), id] for id in range(s.get_piece_size())]"
   ]
  },
  {
   "cell_type": "code",
   "execution_count": null,
   "metadata": {},
   "outputs": [],
   "source": [
    "import random\n",
    "test_text = \"\".join([random.choice(\"ATCG\") for _ in range(1000)])\n",
    "\n",
    "print(test_text)\n",
    "print(s.encode(test_text, out_type=str, enable_sampling=True, alpha=0.1)[0:10])\n",
    "print(s.encode(test_text, out_type=int, enable_sampling=True, alpha=0.1)[0:10])\n",
    "\n",
    "test_text_2 = \"1 2 3 4\"\n",
    "\n",
    "print(test_text_2)\n",
    "print(s.encode(test_text_2, out_type=str, enable_sampling=True, alpha=0.1)[0:10])\n",
    "print(s.encode(test_text_2, out_type=int, enable_sampling=True, alpha=0.1)[0:10])\n"
   ]
  },
  {
   "cell_type": "markdown",
   "metadata": {},
   "source": [
    "#  Trying out model"
   ]
  },
  {
   "cell_type": "markdown",
   "metadata": {},
   "source": [
    "## Download Sentencepiece model"
   ]
  },
  {
   "cell_type": "code",
   "execution_count": 1,
   "metadata": {},
   "outputs": [
    {
     "name": "stdout",
     "output_type": "stream",
     "text": [
      "number of devices: 8\n"
     ]
    }
   ],
   "source": [
    "import os\n",
    "import sys\n",
    "from pathlib import Path\n",
    "import pandas as pd\n",
    "import numpy as np\n",
    "from typing import Callable\n",
    "import torch\n",
    "\n",
    "# sets device for model and PyTorch tensors\n",
    "os.environ[\"CUDA_VISIBLE_DEVICES\"]=\"0,1,2,3,4,5,6,7\" # \"-1\" if want to run on a CPU, otherwise define the GPU number\n",
    "\n",
    "print('number of devices: {}'.format(torch.cuda.device_count()))\n",
    "\n",
    "os.environ[\"CUDA_VISIBLE_DEVICES\"]=\"0\"\n"
   ]
  },
  {
   "cell_type": "code",
   "execution_count": 2,
   "metadata": {},
   "outputs": [],
   "source": [
    "from fastai import *\n",
    "from fastai.text import ( BaseTokenizer, Tokenizer, Vocab, \n",
    "                         PreProcessor, ItemList, PathOrStr, \n",
    "                         DataFrame, Optional, Collection, \n",
    "                         IntsOrStrs, DataBunch, is_listy, \n",
    "                         ItemLists, TextList, SortishSampler, \n",
    "                         DataLoader, SortSampler, partial, \n",
    "                         pad_collate, TextLMDataBunch, data_collate, \n",
    "                         LanguageModelPreLoader, SPProcessor, PreProcessor )\n",
    "from Bio import Seq\n",
    "from Bio.Seq import Seq\n",
    "from Bio import SeqIO\n",
    "from Bio.SeqRecord import SeqRecord\n",
    "from Bio.SeqFeature import FeatureLocation, CompoundLocation\n",
    "import networkx as nx"
   ]
  },
  {
   "cell_type": "code",
   "execution_count": 3,
   "metadata": {},
   "outputs": [],
   "source": [
    "#sys.path.append(\"../..\")\n",
    "from utils import ( _get_genomic_processor, get_model_clas, TextClasDataBunch, \n",
    "                    get_scores, split_data, GenomicTokenizer, get_model_LM, \n",
    "                   GenomicVocab, GenomicTextClasDataBunch, GenomicTextLMDataBunch)"
   ]
  },
  {
   "cell_type": "code",
   "execution_count": 4,
   "metadata": {},
   "outputs": [],
   "source": [
    "path = Path('/mnt/wd_4tb/shared_disk_wd4tb/mattscicluna/data/genomic_ulmfit/ecoli/')"
   ]
  },
  {
   "cell_type": "code",
   "execution_count": 5,
   "metadata": {},
   "outputs": [],
   "source": [
    "df = pd.read_csv(path/'e_coli_lm_data.csv')"
   ]
  },
  {
   "cell_type": "code",
   "execution_count": 6,
   "metadata": {},
   "outputs": [],
   "source": [
    "train_df, valid_df = split_data(df, 0.9)"
   ]
  },
  {
   "cell_type": "code",
   "execution_count": null,
   "metadata": {},
   "outputs": [],
   "source": [
    "\"\"\"\n",
    "from fastai.text import ListRules, ifnone, defaults\n",
    "from fastai.text import ( BaseTokenizer, Tokenizer, Vocab, \n",
    "                         PreProcessor, ItemList, PathOrStr, \n",
    "                         DataFrame, Optional, Collection, \n",
    "                         IntsOrStrs, DataBunch, is_listy, \n",
    "                         ItemLists, TextList, SortishSampler, \n",
    "                         DataLoader, SortSampler, partial, \n",
    "                         pad_collate, TextLMDataBunch, data_collate, \n",
    "                         LanguageModelPreLoader, TextClasDataBunch, ifnone, \n",
    "                         is1d, AWD_LSTM, \n",
    "                         LinearDecoder, SequentialRNN, LanguageLearner, \n",
    "                         RNNLearner, awd_lstm_lm_split, MultiBatchEncoder, \n",
    "                         PoolingLinearClassifier, awd_lstm_clas_split, progress_bar )\n",
    "from fastai.text.data import _join_texts, apply_rules, ProcessPoolExecutor, partition_by_cores\n",
    "\n",
    "class GenomicSPProcessor(PreProcessor):\n",
    "    \"`PreProcessor` that tokenizes and numericalizes with `sentencepiece`\"\n",
    "    def __init__(self, ds:ItemList=None, pre_rules: ListRules=None, post_rules:ListRules=None, vocab_sz:int=None,\n",
    "                 max_vocab_sz:int=30000, model_type:str='unigram', max_sentence_len:int=20480, lang='en',\n",
    "                 char_coverage=None, tmp_dir='tmp', mark_fields:bool=False, include_bos:bool=True, \n",
    "                 include_eos:bool=False, sp_model=None, sp_vocab=None, n_cpus:int=None, enc='utf8'):\n",
    "        try: from sentencepiece import SentencePieceTrainer,SentencePieceProcessor\n",
    "        except ImportError:\n",
    "            raise Exception('sentencepiece module is missing: run `pip install sentencepiece`')\n",
    "        self.pre_rules,self.post_rules,self.enc = pre_rules,post_rules,enc\n",
    "        self.mark_fields,self.include_bos,self.include_eos = mark_fields,include_bos,include_eos\n",
    "        self.sp_model,self.sp_vocab,self.n_cpus = sp_model,sp_vocab,ifnone(n_cpus,defaults.cpus)\n",
    "        self.train_func = None\n",
    "        #partial(train_sentencepiece, pre_rules=pre_rules, post_rules=post_rules, vocab_sz=vocab_sz,\n",
    "        #        max_vocab_sz=max_vocab_sz, model_type=model_type, max_sentence_len=max_sentence_len, lang=lang,\n",
    "        #        char_coverage=char_coverage, tmp_dir=tmp_dir, enc=enc)\n",
    "\n",
    "    def process_one(self, item, join=True):\n",
    "        if join: text = _join_texts([item], self.mark_fields, self.include_bos, self.include_eos)[0]\n",
    "        text = apply_rules(text, pre_rules=self.pre_rules, post_rules=self.post_rules)\n",
    "        return self._encode_batch([text])[0]\n",
    "\n",
    "    def process(self, ds):\n",
    "        ds.items = _join_texts(ds.items, self.mark_fields, self.include_bos, self.include_eos)\n",
    "        ds.items = [apply_rules(t, pre_rules=self.pre_rules, post_rules=self.post_rules) \n",
    "                    for t in progress_bar(ds.items, leave=False)]\n",
    "        if self.sp_model is None or self.sp_vocab is None:\n",
    "            cache_dir = self.train_func(ds.items, ds.path)\n",
    "            self.sp_model,self.sp_vocab = cache_dir/'spm.model',cache_dir/'spm.vocab'\n",
    "        if not getattr(self, 'vocab', False): \n",
    "            with open(self.sp_vocab, 'r', encoding=self.enc) as f: self.vocab = Vocab([line.split('\\t')[0] for line in f.readlines()])\n",
    "        if self.n_cpus <= 1: ds.items = self._encode_batch(ds.items)\n",
    "        else:\n",
    "            with ProcessPoolExecutor(self.n_cpus) as e:\n",
    "                ds.items = np.array(sum(e.map(self._encode_batch, partition_by_cores(ds.items, self.n_cpus)), []))\n",
    "        ds.vocab = self.vocab\n",
    "\n",
    "    def _encode_batch(self, texts):\n",
    "        from sentencepiece import SentencePieceProcessor\n",
    "        tok = SentencePieceProcessor()\n",
    "        tok.Load(str(self.sp_model))\n",
    "        return [np.array(tok.encode_as_ids(texts))]\n",
    "        #return [np.array(tok.EncodeAsIds(t)) for t in texts]\n",
    "        \n",
    "\n",
    "    @classmethod\n",
    "    def load(cls, path:PathOrStr, tmp_dir:PathOrStr='tmp', name:str='spm'):\n",
    "        cache_dir = Path(path)/tmp_dir\n",
    "        return cls(sp_model=cache_dir/f'{name}.model', sp_vocab=cache_dir/f'{name}.vocab')\n",
    "\n",
    "spm_dir = Path('/mnt/wd_4tb/shared_disk_wd4tb/mattscicluna/data/genomic_ulmfit/bacterial_genomes/sentencepiece_tokenizer/tmp/')\n",
    "gen_sp_processor =  GenomicSPProcessor(sp_model=spm_dir/'spm.model', \n",
    "                                       sp_vocab=spm_dir/'spm.vocab', \n",
    "                                       pre_rules=None, \n",
    "                                       post_rules=None, \n",
    "                                       vocab_sz=10000, \n",
    "                                       max_vocab_sz=10000, \n",
    "                                       model_type='bpe',\n",
    "                                       max_sentence_len=20480, \n",
    "                                       lang='dna', \n",
    "                                       char_coverage=0.9998, \n",
    "                                       tmp_dir='tmp', \n",
    "                                       mark_fields=False, \n",
    "                                       include_bos=True, \n",
    "                                       include_eos=True,  \n",
    "                                       enc='utf8')\n",
    "\"\"\""
   ]
  },
  {
   "cell_type": "code",
   "execution_count": 7,
   "metadata": {},
   "outputs": [],
   "source": [
    "def remove_(text):\n",
    "    return text.replace('_', '').strip()\n",
    "\n",
    "def remove_from_list(texts):\n",
    "    #print('texts are: {}'.format(texts))\n",
    "    return [remove_single(text) for text in texts]\n",
    "\n",
    "def remove_single(text):\n",
    "    #print('applying ...')\n",
    "    #text = text.replace('xxup ', '') # remove uppercase indicator (useless)\n",
    "    text = text.upper() # make everything uppercase\n",
    "    text = text.replace('XXBOS', 'xxbos') # undo uppercasing BOS\n",
    "    text = text.replace('XXEOS', 'xxeos') # undo uppercasing EOS\n",
    "    #text = text.replace('XXUP', 'xxup')\n",
    "    #text = text.replace('XXREP', 'xxrep') # undo uppercasing REP\n",
    "    return text\n",
    "\n",
    "spm_dir = Path('/mnt/wd_4tb/shared_disk_wd4tb/mattscicluna/data/genomic_ulmfit/bacterial_genomes/sentencepiece_tokenizer/tmp/')\n",
    "gen_sp_processor = SPProcessor(sp_model=spm_dir/'spm.model', \n",
    "                               sp_vocab=spm_dir/'spm.vocab',\n",
    "                               pre_rules=[remove_], \n",
    "                               post_rules=[remove_from_list], \n",
    "                               vocab_sz=10000, \n",
    "                               model_type='bpe',\n",
    "                               max_sentence_len=20480, \n",
    "                               lang='dna', \n",
    "                               char_coverage=0.9998, \n",
    "                               tmp_dir='tmp', \n",
    "                               mark_fields=False, \n",
    "                               include_bos=True, \n",
    "                               include_eos=True,  \n",
    "                               enc='utf8')"
   ]
  },
  {
   "cell_type": "code",
   "execution_count": null,
   "metadata": {},
   "outputs": [],
   "source": [
    "\"\"\"\n",
    "from fastai.text.data import _join_texts, apply_rules, ProcessPoolExecutor, partition_by_cores\n",
    "\n",
    "def remove_(text):\n",
    "    return text.replace('_', '').strip()\n",
    "\n",
    "def remove_from_list(texts):\n",
    "    print('texts are: {}'.format(texts))\n",
    "    return [remove_single(text) for text in texts]\n",
    "\n",
    "def remove_single(text):\n",
    "    print('applying ...')\n",
    "    #text = text.replace('xxup ', '') # remove uppercase indicator (useless)\n",
    "    text = text.upper() # make everything uppercase\n",
    "    text = text.replace('XXBOS', 'xxbos') # undo uppercasing BOS\n",
    "    text = text.replace('XXEOS', 'xxeos') # undo uppercasing EOS\n",
    "    #text = text.replace('XXUP', 'xxup')\n",
    "    #text = text.replace('XXREP', 'xxrep') # undo uppercasing REP\n",
    "    return text\n",
    "\n",
    "#print(gen_sp_processor.process_one(train_df.iloc[0].Sequence[0:1000]))\n",
    "\n",
    "join = True\n",
    "item = train_df.iloc[0].Sequence[0:100]\n",
    "gen_sp_processor.post_rules = [remove_from_list] #[lambda x: x.upper()]\n",
    "gen_sp_processor.pre_rules = [remove_]\n",
    "\n",
    "print(item)\n",
    "if join: text = _join_texts([item], gen_sp_processor.mark_fields, gen_sp_processor.include_bos, gen_sp_processor.include_eos)[0]\n",
    "#text = item\n",
    "text = apply_rules(text, pre_rules=gen_sp_processor.pre_rules, post_rules=gen_sp_processor.post_rules)\n",
    "\n",
    "encoding = gen_sp_processor._encode_batch([text])[0]\n",
    "print('encoded: {}'.format(encoding))\n",
    "#print('decoded: {}'.format(gen_sp_processor.vocab.textify(encoding)))\n",
    "\n",
    "np.array(gen_sp_processor._encode_batch(['ACCT', 'CCAATCG']))\n",
    "\"\"\""
   ]
  },
  {
   "cell_type": "code",
   "execution_count": 8,
   "metadata": {},
   "outputs": [
    {
     "data": {
      "text/html": [],
      "text/plain": [
       "<IPython.core.display.HTML object>"
      ]
     },
     "metadata": {},
     "output_type": "display_data"
    },
    {
     "data": {
      "text/html": [],
      "text/plain": [
       "<IPython.core.display.HTML object>"
      ]
     },
     "metadata": {},
     "output_type": "display_data"
    }
   ],
   "source": [
    "class GenomicTextLMDataBunchSP(TextLMDataBunch):\n",
    "    @classmethod\n",
    "    def from_df(cls, path:PathOrStr, train_df:DataFrame, valid_df:DataFrame, test_df:Optional[DataFrame]=None,\n",
    "                processor:PreProcessor=None, classes:Collection[str]=None, text_cols:IntsOrStrs=1,\n",
    "                label_cols:IntsOrStrs=0, label_delim:str=None, bptt=70, collate_fn:Callable=data_collate, bs=64, **kwargs):\n",
    "        \"Create a `TextDataBunch` from DataFrames. `kwargs` are passed to the dataloader creation.\"\n",
    "        if classes is None and is_listy(label_cols) and len(label_cols) > 1: classes = label_cols\n",
    "        src = ItemLists(path, TextList.from_df(train_df, path, cols=text_cols, processor=processor),\n",
    "                        TextList.from_df(valid_df, path, cols=text_cols, processor=processor))\n",
    "        src = src.label_for_lm() \n",
    "        if test_df is not None: src.add_test(TextList.from_df(test_df, path, cols=text_cols))\n",
    "        d1 = src.databunch(**kwargs)\n",
    "        \n",
    "        datasets = cls._init_ds(d1.train_ds, d1.valid_ds, d1.test_ds)            \n",
    "        val_bs = bs\n",
    "        datasets = [LanguageModelPreLoader(ds, shuffle=(i==0), bs=(bs if i==0 else val_bs), bptt=bptt, backwards=False) \n",
    "                    for i,ds in enumerate(datasets)]            \n",
    "        dls = [DataLoader(d, b, shuffle=False) for d,b in zip(datasets, (bs,val_bs,val_bs,val_bs)) if d is not None]\n",
    "        \n",
    "        return cls(*dls, path=path, collate_fn=collate_fn, no_check=False)\n",
    "\n",
    "data = GenomicTextLMDataBunchSP.from_df(path, train_df, valid_df, bs=428, processor=gen_sp_processor, text_cols=0, label_cols=1)"
   ]
  },
  {
   "cell_type": "code",
   "execution_count": 9,
   "metadata": {},
   "outputs": [
    {
     "name": "stdout",
     "output_type": "stream",
     "text": [
      "num tokens: 10000\n",
      "first sequence: AGCTTTTCATTCTGACTGCAACGGGCAATATGTCTCTGTGTGGATTAAAAAAAGAGTGTCTGATAGCAGCTTCTGAACTGGTTACCTGCCGTGAGTAAATTAAAATTTTATTGACTTAGGTCACTAAATACTTTAACCAATATAGGCATAGCGCACAGACAGATAAAAATTACAGAGTACACAACATCCATGAAACGCATTAGCACCACCATTACCACCACCATCACCATTACCACAGGTAACGGTGCGGGCTGACGCGTACAGGAAACACAGAAAAAAGCCCGCACCTGACAGTGCGGGCTTTTTTTTTCGACCAAAGGTAACGAGGTAACAACCATGCGAGTGTTGAAGTTCGGCGGTACATCAGTGGCAAATGCAGAACGTTTTCTGCGTGTTGCCGATATTCTGGAAAGCAATGCCAGGCAGGGGCAGGTGGCCACCGTCCTCTCTGCCCCCGCCAAAATCACCAACCACCTGGTGGCGATGATTGAAAAAACCATTAGCGGCCAGGATGCTTTACCCAATATCAGCGATGCCGAACGTATTTTTGCCGAACTTTTGACGGGACTCGCCGCCGCCCAGCCGGGGTTCCCGCTGGCGCAATTGAAAACTTTCGTCGATCAGGAATTTGCCCAAATAAAACATGTCCTGCATGGCATTAGTTTGTTGGGGCAGTGCCCGGATAGCATCAACGCTGCGCTGATTTGCCGTGGCGAGAAAATGTCGATCGCCATTATGGCCGGCGTATTAGAAGCGCGCGGTCACAACGTTACTGTTATCGATCCGGTCGAAAAACTGCTGGCAGTGGGGCATTACCTCGAATCTACCGTCGATATTGCTGAGTCCACCCGCCGTATTGCGGCAAGCCGCATTCCGGCTGATCACATGGTGCTGATGGCA\n",
      "encoded: (Text [   2    9  188   50 ... 1597  369 9999    3], EmptyLabel 0)\n",
      "decoded: ▁xxbos <unk> AGCTT TTC AT TCT GAC TGCAAC GGGC AAT ATGTC TCT GTGT GGATT AAAA AA AGAGT GTCT GAT AGCAGC TTCT GAACT GGTT ACCTGCC GT GAGT AA ATTAA AAT TTTATT GACTT AGGTC ACT AAAT ACTTT AACC AAT AT AGGCAT AGCGCAC AGAC AGAT AAAA ATTAC AGA GTAC AC AACATCC ATGAA ACGC ATTAGC ACCACC ATT ACCACC ACC ATCACC ATT ACCAC AGGT AAC GGTGC GGGCT GACGC GTAC AGGA AACAC AGA AAAAAGCCC GC ACCT GAC AGTGC GGGC TTTT TT TTTC GACCAA AGGT AAC GAGGT AAC AACC ATGC GAGT GTTGAA GTTC GGCGGT ACATC AGT GGCAA ATGC AGA ACGT TTTC TGCGT GTTGCC GATAT TCTGGA AAGC AATGCC AGGC AGGGGC AGGT GGCCACC GTCCTC TCT GCCCCC GCCAA AATC ACC AACC ACCT GGTGGCGAT GATT GA AAAA ACC ATTAGC GGCC AGGA TGCTTT ACCCAAT ATCAGC GATGCC GAACGT ATTT TTGCC GAAC TTTT GAC GGGAC TC GCCGCC GCCCAGCC GGGGT TCCCGCT GGCGC AATT GAAAAC TTTC GTC GATC AGGA ATTT GCCC AAAT AAAAC ATGTCC TGC ATGGC ATT AGTTT GTT GGGGC AGTGCCC GGAT AGCATC AACGC TGCGCT GATTT GCCGT GGC GAGA AAATGTC GATCGCC ATT ATGGCC GGCGT ATT AGAAGC GCGC GGTCAC AAC GTT ACTGTT ATC GATCC GGTC GAAAAAC TGCT GGCAGT GGGGC ATT ACCTC GA ATCT ACC GTCGAT AT TGCT GAGTCC ACCC GCCGT ATTGC GGCAA GCCGC ATTCC GGCT GATC ACAT GGTGCT GATGGC A ▁xxeos\n"
     ]
    }
   ],
   "source": [
    "print('num tokens: {}'.format(len(data.vocab.itos)))\n",
    "print('first sequence: {}'.format(train_df.iloc[0].Sequence))\n",
    "print('encoded: {}'.format(data.train_ds[0]))\n",
    "encoding = gen_sp_processor.process_one(train_df.iloc[0].Sequence)\n",
    "print('decoded: {}'.format(gen_sp_processor.vocab.textify(encoding)))"
   ]
  },
  {
   "cell_type": "code",
   "execution_count": 12,
   "metadata": {},
   "outputs": [
    {
     "data": {
      "text/plain": [
       "['GCC',\n",
       " 'GGC',\n",
       " 'TCC',\n",
       " 'AT',\n",
       " 'GGA',\n",
       " 'AA',\n",
       " 'ACC',\n",
       " 'TT',\n",
       " 'GTC',\n",
       " 'GAC',\n",
       " 'GGT',\n",
       " 'AGC',\n",
       " 'TGC',\n",
       " 'ATC',\n",
       " 'GGCC',\n",
       " 'TTC',\n",
       " 'GAA',\n",
       " 'GAT',\n",
       " 'GTT',\n",
       " 'AAC']"
      ]
     },
     "execution_count": 12,
     "metadata": {},
     "output_type": "execute_result"
    }
   ],
   "source": [
    "data.vocab.itos[35:55]"
   ]
  },
  {
   "cell_type": "markdown",
   "metadata": {},
   "source": [
    "## Train Model"
   ]
  },
  {
   "cell_type": "code",
   "execution_count": 13,
   "metadata": {},
   "outputs": [],
   "source": [
    "np.save(path/'coli_vocab_sp.npy', data.vocab.itos)"
   ]
  },
  {
   "cell_type": "code",
   "execution_count": 14,
   "metadata": {},
   "outputs": [],
   "source": [
    "config = dict(emb_sz=400, n_hid=1150, n_layers=3, pad_token=0, qrnn=False, output_p=0.25, \n",
    "                          hidden_p=0.1, input_p=0.2, embed_p=0.02, weight_p=0.15, tie_weights=True, out_bias=True)\n",
    "drop_mult = 0.3"
   ]
  },
  {
   "cell_type": "code",
   "execution_count": 15,
   "metadata": {},
   "outputs": [],
   "source": [
    "learn = get_model_LM(data, drop_mult, config)"
   ]
  },
  {
   "cell_type": "code",
   "execution_count": 16,
   "metadata": {},
   "outputs": [
    {
     "data": {
      "text/plain": [
       "SequentialRNN(\n",
       "  (0): AWD_LSTM(\n",
       "    (encoder): Embedding(10000, 400, padding_idx=0)\n",
       "    (encoder_dp): EmbeddingDropout(\n",
       "      (emb): Embedding(10000, 400, padding_idx=0)\n",
       "    )\n",
       "    (rnns): ModuleList(\n",
       "      (0): WeightDropout(\n",
       "        (module): LSTM(400, 1150, batch_first=True)\n",
       "      )\n",
       "      (1): WeightDropout(\n",
       "        (module): LSTM(1150, 1150, batch_first=True)\n",
       "      )\n",
       "      (2): WeightDropout(\n",
       "        (module): LSTM(1150, 400, batch_first=True)\n",
       "      )\n",
       "    )\n",
       "    (input_dp): RNNDropout()\n",
       "    (hidden_dps): ModuleList(\n",
       "      (0): RNNDropout()\n",
       "      (1): RNNDropout()\n",
       "      (2): RNNDropout()\n",
       "    )\n",
       "  )\n",
       "  (1): LinearDecoder(\n",
       "    (decoder): Linear(in_features=400, out_features=10000, bias=True)\n",
       "    (output_dp): RNNDropout()\n",
       "  )\n",
       ")"
      ]
     },
     "execution_count": 16,
     "metadata": {},
     "output_type": "execute_result"
    }
   ],
   "source": [
    "learn.model"
   ]
  },
  {
   "cell_type": "code",
   "execution_count": 17,
   "metadata": {},
   "outputs": [
    {
     "data": {
      "text/html": [
       "\n",
       "    <div>\n",
       "        <style>\n",
       "            /* Turns off some styling */\n",
       "            progress {\n",
       "                /* gets rid of default border in Firefox and Opera. */\n",
       "                border: none;\n",
       "                /* Needs to be in here for Safari polyfill so background images work as expected. */\n",
       "                background-size: auto;\n",
       "            }\n",
       "            .progress-bar-interrupted, .progress-bar-interrupted::-webkit-progress-bar {\n",
       "                background: #F44336;\n",
       "            }\n",
       "        </style>\n",
       "      <progress value='3' class='' max='4' style='width:300px; height:20px; vertical-align: middle;'></progress>\n",
       "      75.00% [3/4 03:20<01:06]\n",
       "    </div>\n",
       "    \n",
       "<table border=\"1\" class=\"dataframe\">\n",
       "  <thead>\n",
       "    <tr style=\"text-align: left;\">\n",
       "      <th>epoch</th>\n",
       "      <th>train_loss</th>\n",
       "      <th>valid_loss</th>\n",
       "      <th>accuracy</th>\n",
       "      <th>time</th>\n",
       "    </tr>\n",
       "  </thead>\n",
       "  <tbody>\n",
       "    <tr>\n",
       "      <td>0</td>\n",
       "      <td>9.208111</td>\n",
       "      <td>#na#</td>\n",
       "      <td>01:07</td>\n",
       "    </tr>\n",
       "    <tr>\n",
       "      <td>1</td>\n",
       "      <td>8.685767</td>\n",
       "      <td>#na#</td>\n",
       "      <td>01:07</td>\n",
       "    </tr>\n",
       "    <tr>\n",
       "      <td>2</td>\n",
       "      <td>27.854570</td>\n",
       "      <td>#na#</td>\n",
       "      <td>01:04</td>\n",
       "    </tr>\n",
       "  </tbody>\n",
       "</table><p>\n",
       "\n",
       "    <div>\n",
       "        <style>\n",
       "            /* Turns off some styling */\n",
       "            progress {\n",
       "                /* gets rid of default border in Firefox and Opera. */\n",
       "                border: none;\n",
       "                /* Needs to be in here for Safari polyfill so background images work as expected. */\n",
       "                background-size: auto;\n",
       "            }\n",
       "            .progress-bar-interrupted, .progress-bar-interrupted::-webkit-progress-bar {\n",
       "                background: #F44336;\n",
       "            }\n",
       "        </style>\n",
       "      <progress value='0' class='' max='32' style='width:300px; height:20px; vertical-align: middle;'></progress>\n",
       "      0.00% [0/32 00:00<00:00]\n",
       "    </div>\n",
       "    "
      ],
      "text/plain": [
       "<IPython.core.display.HTML object>"
      ]
     },
     "metadata": {},
     "output_type": "display_data"
    },
    {
     "name": "stdout",
     "output_type": "stream",
     "text": [
      "LR Finder is complete, type {learner_name}.recorder.plot() to see the graph.\n"
     ]
    },
    {
     "data": {
      "image/png": "[encoded data removed]",
      "text/plain": [
       "<Figure size 432x288 with 1 Axes>"
      ]
     },
     "metadata": {
      "needs_background": "light"
     },
     "output_type": "display_data"
    }
   ],
   "source": [
    "learn.lr_find()\n",
    "learn.recorder.plot()"
   ]
  },
  {
   "cell_type": "code",
   "execution_count": null,
   "metadata": {},
   "outputs": [
    {
     "data": {
      "text/html": [
       "\n",
       "    <div>\n",
       "        <style>\n",
       "            /* Turns off some styling */\n",
       "            progress {\n",
       "                /* gets rid of default border in Firefox and Opera. */\n",
       "                border: none;\n",
       "                /* Needs to be in here for Safari polyfill so background images work as expected. */\n",
       "                background-size: auto;\n",
       "            }\n",
       "            .progress-bar-interrupted, .progress-bar-interrupted::-webkit-progress-bar {\n",
       "                background: #F44336;\n",
       "            }\n",
       "        </style>\n",
       "      <progress value='0' class='' max='10' style='width:300px; height:20px; vertical-align: middle;'></progress>\n",
       "      0.00% [0/10 00:00<00:00]\n",
       "    </div>\n",
       "    \n",
       "<table border=\"1\" class=\"dataframe\">\n",
       "  <thead>\n",
       "    <tr style=\"text-align: left;\">\n",
       "      <th>epoch</th>\n",
       "      <th>train_loss</th>\n",
       "      <th>valid_loss</th>\n",
       "      <th>accuracy</th>\n",
       "      <th>time</th>\n",
       "    </tr>\n",
       "  </thead>\n",
       "  <tbody>\n",
       "  </tbody>\n",
       "</table><p>\n",
       "\n",
       "    <div>\n",
       "        <style>\n",
       "            /* Turns off some styling */\n",
       "            progress {\n",
       "                /* gets rid of default border in Firefox and Opera. */\n",
       "                border: none;\n",
       "                /* Needs to be in here for Safari polyfill so background images work as expected. */\n",
       "                background-size: auto;\n",
       "            }\n",
       "            .progress-bar-interrupted, .progress-bar-interrupted::-webkit-progress-bar {\n",
       "                background: #F44336;\n",
       "            }\n",
       "        </style>\n",
       "      <progress value='5' class='' max='32' style='width:300px; height:20px; vertical-align: middle;'></progress>\n",
       "      15.62% [5/32 00:10<00:57 9.1282]\n",
       "    </div>\n",
       "    "
      ],
      "text/plain": [
       "<IPython.core.display.HTML object>"
      ]
     },
     "metadata": {},
     "output_type": "display_data"
    }
   ],
   "source": [
    "learn.fit_one_cycle(10, 1e-2, moms=(0.8,0.7))"
   ]
  },
  {
   "cell_type": "code",
   "execution_count": null,
   "metadata": {},
   "outputs": [],
   "source": [
    "learn.fit_one_cycle(10, 5e-3, moms=(0.8,0.7))"
   ]
  },
  {
   "cell_type": "code",
   "execution_count": null,
   "metadata": {},
   "outputs": [],
   "source": [
    "learn.fit_one_cycle(10, 1e-3, moms=(0.8,0.7))"
   ]
  },
  {
   "cell_type": "code",
   "execution_count": null,
   "metadata": {},
   "outputs": [],
   "source": [
    "learn.save('coli_only_LM_sp')"
   ]
  },
  {
   "cell_type": "code",
   "execution_count": null,
   "metadata": {},
   "outputs": [],
   "source": [
    "learn.save_encoder('coli_only_LM_enc_sp')"
   ]
  },
  {
   "cell_type": "markdown",
   "metadata": {},
   "source": [
    "##  Classification downstream task"
   ]
  },
  {
   "cell_type": "code",
   "execution_count": null,
   "metadata": {},
   "outputs": [],
   "source": [
    "path = Path('/mnt/wd_4tb/shared_disk_wd4tb/mattscicluna/data/genomic_ulmfit/ecoli/')\n",
    "classification_df = pd.read_csv(path/'e_coli_promoters_dataset.csv')"
   ]
  },
  {
   "cell_type": "code",
   "execution_count": null,
   "metadata": {},
   "outputs": [],
   "source": [
    "train_df = classification_df[classification_df.set == 'train']\n",
    "valid_df = classification_df[classification_df.set == 'valid']\n",
    "test_df = classification_df[classification_df.set == 'test']"
   ]
  },
  {
   "cell_type": "code",
   "execution_count": null,
   "metadata": {},
   "outputs": [],
   "source": [
    "voc = np.load(path/'coli_vocab_sp.npy')\n",
    "model_vocab = GenomicVocab(voc)\n",
    "\n",
    "spm_dir = Path('/mnt/wd_4tb/shared_disk_wd4tb/mattscicluna/data/genomic_ulmfit/bacterial_genomes/sentencepiece_tokenizer/tmp/')\n",
    "gen_sp_processor = SPProcessor(sp_model=spm_dir/'spm.model', \n",
    "                               sp_vocab=spm_dir/'spm.vocab', \n",
    "                               pre_rules=None, \n",
    "                               post_rules=None, \n",
    "                               vocab_sz=10000, \n",
    "                               max_vocab_sz=10000, \n",
    "                               model_type='bpe',\n",
    "                               max_sentence_len=20480, \n",
    "                               lang='dna', \n",
    "                               char_coverage=0.9998, \n",
    "                               tmp_dir='tmp', \n",
    "                               mark_fields=False, \n",
    "                               include_bos=True, \n",
    "                               include_eos=True,  \n",
    "                               enc='utf8')"
   ]
  },
  {
   "cell_type": "code",
   "execution_count": null,
   "metadata": {},
   "outputs": [],
   "source": [
    "class GenomicTextClasDataBunchSP(TextClasDataBunch):\n",
    "    @classmethod\n",
    "    def from_df(cls, path:PathOrStr, train_df:DataFrame, valid_df:DataFrame, test_df:Optional[DataFrame]=None,\n",
    "                processor:PreProcessor=None, classes:Collection[str]=None, text_cols:IntsOrStrs=1,\n",
    "                label_cols:IntsOrStrs=0, pad_idx=1, pad_first=True, label_delim:str=None,\n",
    "                bs=64, **kwargs) -> DataBunch:\n",
    "        \"Create a `TextDataBunch` from DataFrames. `kwargs` are passed to the dataloader creation.\"\n",
    "        if classes is None and is_listy(label_cols) and len(label_cols) > 1: classes = label_cols\n",
    "        src = ItemLists(path, TextList.from_df(train_df, path, cols=text_cols, processor=processor),\n",
    "                        TextList.from_df(valid_df, path, cols=text_cols, processor=processor))\n",
    "        src = src.label_from_df(cols=label_cols, classes=classes, label_delim=label_delim)\n",
    "        if test_df is not None: src.add_test(TextList.from_df(test_df, path, cols=text_cols))\n",
    "        d1 = src.databunch(**kwargs)\n",
    "        \n",
    "        datasets = cls._init_ds(d1.train_ds, d1.valid_ds, d1.test_ds)\n",
    "        collate_fn = partial(pad_collate, pad_idx=pad_idx, pad_first=pad_first, backwards=False)\n",
    "        train_sampler = SortishSampler(datasets[0].x, key=lambda t: len(datasets[0][t][0].data), bs=bs//2)\n",
    "        train_dl = DataLoader(datasets[0], batch_size=bs, sampler=train_sampler, drop_last=True, **kwargs)\n",
    "        dataloaders = [train_dl]\n",
    "        for ds in datasets[1:]:\n",
    "            lengths = [len(t) for t in ds.x.items]\n",
    "            sampler = SortSampler(ds.x, key=lengths.__getitem__)\n",
    "            dataloaders.append(DataLoader(ds, batch_size=bs, sampler=sampler, **kwargs))\n",
    "            \n",
    "        return cls(*dataloaders, path=path, collate_fn=collate_fn)"
   ]
  },
  {
   "cell_type": "code",
   "execution_count": null,
   "metadata": {},
   "outputs": [],
   "source": [
    "#tok = Tokenizer(GenomicTokenizer, n_cpus=1, pre_rules=[], post_rules=[], special_cases=['xxpad'])\n",
    "data_clas = GenomicTextClasDataBunchSP.from_df(path, train_df, valid_df, processor=gen_sp_processor,\n",
    "                                             text_cols='Sequence', label_cols='Promoter', bs=400)"
   ]
  },
  {
   "cell_type": "code",
   "execution_count": null,
   "metadata": {},
   "outputs": [],
   "source": [
    "clas_config = dict(emb_sz=400, n_hid=1150, n_layers=3, pad_token=0, qrnn=False, output_p=0.4, \n",
    "                       hidden_p=0.2, input_p=0.6, embed_p=0.1, weight_p=0.5)\n",
    "drop_mult = 0.6"
   ]
  },
  {
   "cell_type": "code",
   "execution_count": null,
   "metadata": {},
   "outputs": [],
   "source": [
    "learn = get_model_clas(data_clas, drop_mult, clas_config)"
   ]
  },
  {
   "cell_type": "code",
   "execution_count": null,
   "metadata": {},
   "outputs": [],
   "source": [
    "learn.load_encoder('coli_only_LM_enc_sp')\n",
    "learn.freeze()"
   ]
  },
  {
   "cell_type": "code",
   "execution_count": null,
   "metadata": {},
   "outputs": [],
   "source": [
    "learn.lr_find()\n",
    "learn.recorder.plot()"
   ]
  },
  {
   "cell_type": "code",
   "execution_count": null,
   "metadata": {},
   "outputs": [],
   "source": [
    "learn.fit_one_cycle(3, 2e-2, moms=(0.8,0.7))"
   ]
  },
  {
   "cell_type": "code",
   "execution_count": null,
   "metadata": {},
   "outputs": [],
   "source": [
    "learn.freeze_to(-2)\n",
    "learn.fit_one_cycle(3, slice(1e-2/(2.6**4),1e-2), moms=(0.8,0.7))"
   ]
  },
  {
   "cell_type": "code",
   "execution_count": null,
   "metadata": {},
   "outputs": [],
   "source": [
    "learn.freeze_to(-3)\n",
    "learn.fit_one_cycle(3, slice(5e-3/(2.6**4),5e-3), moms=(0.8,0.7))"
   ]
  },
  {
   "cell_type": "code",
   "execution_count": null,
   "metadata": {},
   "outputs": [],
   "source": [
    "learn.unfreeze()\n",
    "learn.fit_one_cycle(5, slice(1e-3/(2.6**4),1e-3), moms=(0.8,0.7))"
   ]
  },
  {
   "cell_type": "code",
   "execution_count": null,
   "metadata": {},
   "outputs": [],
   "source": [
    "learn.fit_one_cycle(5, slice(1e-4/(2.6**4),1e-4), moms=(0.8,0.7))"
   ]
  },
  {
   "cell_type": "code",
   "execution_count": null,
   "metadata": {},
   "outputs": [],
   "source": [
    "learn.save('coli_coli_pretrain_sp', return_path=True)"
   ]
  },
  {
   "cell_type": "code",
   "execution_count": null,
   "metadata": {},
   "outputs": [],
   "source": [
    "data_clas = GenomicTextClasDataBunchSP.from_df(path, train_df, test_df, processor=gen_sp_processor,\n",
    "                                            text_cols='Sequence', label_cols='Promoter', bs=300)\n",
    "learn.data = data_clas"
   ]
  },
  {
   "cell_type": "code",
   "execution_count": null,
   "metadata": {},
   "outputs": [],
   "source": [
    "get_scores(learn)"
   ]
  },
  {
   "cell_type": "code",
   "execution_count": null,
   "metadata": {},
   "outputs": [],
   "source": []
  }
 ],
 "metadata": {
  "kernelspec": {
   "display_name": "Python (genomic_ulmfit)",
   "language": "python",
   "name": "genomic_ulmfit"
  },
  "language_info": {
   "codemirror_mode": {
    "name": "ipython",
    "version": 3
   },
   "file_extension": ".py",
   "mimetype": "text/x-python",
   "name": "python",
   "nbconvert_exporter": "python",
   "pygments_lexer": "ipython3",
   "version": "3.7.7"
  }
 },
 "nbformat": 4,
 "nbformat_minor": 4
}
