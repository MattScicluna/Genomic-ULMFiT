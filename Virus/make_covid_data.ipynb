{
 "cells": [
  {
   "cell_type": "code",
   "execution_count": 15,
   "metadata": {},
   "outputs": [],
   "source": [
    "import os\n",
    "import sys\n",
    "\n",
    "import pandas as pd\n",
    "\n",
    "sys.path.append(\"..\")\n",
    "from utils import *"
   ]
  },
  {
   "cell_type": "code",
   "execution_count": 16,
   "metadata": {},
   "outputs": [],
   "source": [
    "subject_covs = pd.read_csv('/mnt/wd_4tb/shared_disk_wd4tb/mattscicluna/data/covid_data/covid_metadata.txt', sep='\\t', header=None)"
   ]
  },
  {
   "cell_type": "code",
   "execution_count": 18,
   "metadata": {},
   "outputs": [],
   "source": [
    "subject_seqs = '/mnt/wd_4tb/shared_disk_wd4tb/mattscicluna/data/covid_data/allFiles.sorted.minimap2.haploid.flt.merged.noINDELs.allCoveredSamples.fasta'\n",
    "\n",
    "valid_pct = 0.1\n",
    "dfs_trn = []\n",
    "dfs_val = []\n",
    "\n",
    "#source = '_'.join(file.split('.')[1].split('_')[1:-1])\n",
    "data = process_fasta(subject_seqs, 2000, 900)\n",
    "    \n",
    "df = pd.DataFrame(data, columns=['Sequence'])\n",
    "cut = int((1-valid_pct) * len(df)) + 1\n",
    "train_df, valid_df = df[:cut], df[cut:]\n",
    "dfs_trn.append(train_df)\n",
    "dfs_val.append(valid_df)\n",
    "\n",
    "df_trn = pd.concat(dfs_trn)\n",
    "df_trn['set'] = 'train'\n",
    "df_val = pd.concat(dfs_val)\n",
    "df_val['set'] = 'valid'\n",
    "\n",
    "data_df = pd.concat(dfs_trn+dfs_val)\n",
    "data_df.reset_index(inplace=True, drop=True)\n",
    "data_df.to_csv('subject_seqs.csv', index=False)"
   ]
  },
  {
   "cell_type": "code",
   "execution_count": null,
   "metadata": {},
   "outputs": [],
   "source": []
  }
 ],
 "metadata": {
  "kernelspec": {
   "display_name": "Python (genomic_ulmfit)",
   "language": "python",
   "name": "genomic_ulmfit"
  },
  "language_info": {
   "codemirror_mode": {
    "name": "ipython",
    "version": 3
   },
   "file_extension": ".py",
   "mimetype": "text/x-python",
   "name": "python",
   "nbconvert_exporter": "python",
   "pygments_lexer": "ipython3",
   "version": "3.7.7"
  }
 },
 "nbformat": 4,
 "nbformat_minor": 4
}
