{
 "cells": [
  {
   "cell_type": "markdown",
   "metadata": {},
   "source": [
    "# Bacterial Ensemble Data Processing\n",
    "\n",
    "This notebook creates a language model dataset from an ensemble of bacterial genomes. This dataset will be used for unsupervised learning, so it will simply be the text of the genome.\n",
    "\n",
    "#### Data Source\n",
    "All genomes are downloaded from [NCBI](https://www.ncbi.nlm.nih.gov/genome/browse#!/overview/)"
   ]
  },
  {
   "cell_type": "code",
   "execution_count": null,
   "metadata": {},
   "outputs": [],
   "source": [
    "%reload_ext autoreload\n",
    "%autoreload 2\n",
    "%matplotlib inline"
   ]
  },
  {
   "cell_type": "code",
   "execution_count": null,
   "metadata": {},
   "outputs": [],
   "source": [
    "from fastai import *\n",
    "from fastai.text import *\n",
    "from Bio import Seq\n",
    "from Bio.Seq import Seq\n",
    "from Bio import SeqIO\n",
    "from Bio.SeqRecord import SeqRecord\n",
    "from Bio.SeqFeature import FeatureLocation, CompoundLocation\n",
    "import networkx as nx"
   ]
  },
  {
   "cell_type": "code",
   "execution_count": null,
   "metadata": {},
   "outputs": [],
   "source": [
    "sys.path.append(\"../../..\")\n",
    "from utils import *"
   ]
  },
  {
   "cell_type": "code",
   "execution_count": null,
   "metadata": {},
   "outputs": [],
   "source": [
    "path = Path('/mnt/wd_4tb/shared_disk_wd4tb/mattscicluna/data/genomic_ulmfit/bacterial_genomes/')"
   ]
  },
  {
   "cell_type": "markdown",
   "metadata": {},
   "source": [
    "Genome files used:"
   ]
  },
  {
   "cell_type": "code",
   "execution_count": null,
   "metadata": {},
   "outputs": [],
   "source": [
    "os.listdir(path/'genome_fastas')"
   ]
  },
  {
   "cell_type": "code",
   "execution_count": null,
   "metadata": {},
   "outputs": [],
   "source": [
    "valid_pct = 0.1\n",
    "dfs_trn = []\n",
    "dfs_val = []\n",
    "for file in os.listdir(path/'genome_fastas'):\n",
    "    #source = '_'.join(file.split('.')[1].split('_')[1:-1])\n",
    "    source = file.split('.')[0]\n",
    "    \n",
    "    data = process_fasta(path/'genome_fastas'/file, 2000, 900)\n",
    "    \n",
    "    df = pd.DataFrame(data, columns=['Sequence'])\n",
    "    df['Source'] = source\n",
    "    cut = int((1-valid_pct) * len(df)) + 1\n",
    "    train_df, valid_df = df[:cut], df[cut:]\n",
    "    dfs_trn.append(train_df)\n",
    "    dfs_val.append(valid_df)\n",
    "\n",
    "df_trn = pd.concat(dfs_trn)\n",
    "df_trn['set'] = 'train'\n",
    "df_val = pd.concat(dfs_val)\n",
    "df_val['set'] = 'valid'\n",
    "\n",
    "data_df = pd.concat(dfs_trn+dfs_val)\n",
    "data_df.reset_index(inplace=True, drop=True)\n",
    "data_df.to_csv(path/'bacterial_data.csv', index=False)"
   ]
  },
  {
   "cell_type": "code",
   "execution_count": null,
   "metadata": {},
   "outputs": [],
   "source": [
    "data_df.head()"
   ]
  },
  {
   "cell_type": "code",
   "execution_count": null,
   "metadata": {},
   "outputs": [],
   "source": [
    "# small test to see if our datasets are the same\n",
    "#assert \"AGACGCTCTATCCAATTGAGCTACGGGCGCATATAAATGGTGCCGA\" == data_df.iloc[0]['Sequence'][:46]\n",
    "#assert \"TATAGGAATTGTATTTACGGGATTTCCGCATAAATTTTACACATTT\" == data_df.iloc[1]['Sequence'][:46]\n",
    "#assert \"AAGTCAATGATTATCTTCCAACGAAAGTCCGGGTTTTATCGTCTAT\" == data_df.iloc[2]['Sequence'][:46]\n",
    "#assert \"CATGAGCTAGCGAAATCGCACTTTCGAGTAGAACGTGAACAGACGT\" == data_df.iloc[3]['Sequence'][:46]\n",
    "#assert \"TAAATGGTTTAATTAACTATAACATACTTGACCTTGCGAAAAAAAC\" == data_df.iloc[4]['Sequence'][:46]"
   ]
  },
  {
   "cell_type": "code",
   "execution_count": null,
   "metadata": {},
   "outputs": [],
   "source": [
    "data_df['Source'].unique()"
   ]
  },
  {
   "cell_type": "code",
   "execution_count": null,
   "metadata": {},
   "outputs": [],
   "source": []
  }
 ],
 "metadata": {
  "kernelspec": {
   "display_name": "Python (genomic_ulmfit)",
   "language": "python",
   "name": "genomic_ulmfit"
  },
  "language_info": {
   "codemirror_mode": {
    "name": "ipython",
    "version": 3
   },
   "file_extension": ".py",
   "mimetype": "text/x-python",
   "name": "python",
   "nbconvert_exporter": "python",
   "pygments_lexer": "ipython3",
   "version": "3.7.7"
  }
 },
 "nbformat": 4,
 "nbformat_minor": 4
}
