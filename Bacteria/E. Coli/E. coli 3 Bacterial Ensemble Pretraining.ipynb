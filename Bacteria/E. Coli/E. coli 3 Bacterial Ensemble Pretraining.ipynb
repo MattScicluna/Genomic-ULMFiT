{
 "cells": [
  {
   "cell_type": "markdown",
   "metadata": {},
   "source": [
    "# E. coli Promoter Classification with Genomic Ensemble Pretraining\n",
    "\n",
    "This notebook follows on from the previous. Here we train a promoter classification model in the same way as before. The only thing we change is initializing the classification model with weights from a better language model. The previous language model was trained on just the E. coli genome. It trained to a validation loss of 2.63. The new model is trained on an ensemble of different bacterial genomes, which trained to a validation loss of 2.50. We will see that this has a large impact on performance.\n",
    "\n",
    "To avoid clutter, confusion, and long notebooks, I separated the training of the new language model to a different notebook. The data preparation for the bacterial ensemble is found in the [Bacterial Ensemble Data Processing](https://github.com/kheyer/Genomic-ULMFiT/blob/master/Bacteria/Bacterial%20Ensemble/Genomic%20Language%20Models/Bacterial%20Ensemble%20LM%200%20Data%20Processing.ipynb) notebook. Training of the new language model is detailed in the [Bacterial Ensemble Language Model](https://github.com/kheyer/Genomic-ULMFiT/blob/master/Bacteria/Bacterial%20Ensemble/Genomic%20Language%20Models/Bacterial%20Ensemble%20LM%201%205-mer%20Language%20Model.ipynb) notebook.\n",
    "\n",
    "This notebook shows how using a better trained language model as the basis for a classification model has a significant effect on performance - much more so than training longer on classification data. This method really shines when you have a lot of unlabeled genomic data to throw at it."
   ]
  },
  {
   "cell_type": "code",
   "execution_count": 1,
   "metadata": {},
   "outputs": [],
   "source": [
    "%reload_ext autoreload\n",
    "%autoreload 2\n",
    "%matplotlib inline"
   ]
  },
  {
   "cell_type": "code",
   "execution_count": 2,
   "metadata": {},
   "outputs": [],
   "source": [
    "import os\n",
    "import sys\n",
    "from pathlib import Path\n",
    "import pandas as pd\n",
    "import numpy as np\n",
    "from typing import Callable\n",
    "\n",
    "# sets device for model and PyTorch tensors\n",
    "os.environ[\"CUDA_VISIBLE_DEVICES\"]=\"0\"\n",
    "#os.environ[\"CUDA_VISIBLE_DEVICES\"]=\"0,1,2,3,4,5,6,7\" # \"-1\" if want to run on a CPU, otherwise define the GPU number"
   ]
  },
  {
   "cell_type": "code",
   "execution_count": 3,
   "metadata": {},
   "outputs": [],
   "source": [
    "from fastai import *\n",
    "from fastai.text import ( BaseTokenizer, Tokenizer, Vocab, \n",
    "                         PreProcessor, ItemList, PathOrStr, \n",
    "                         DataFrame, Optional, Collection, \n",
    "                         IntsOrStrs, DataBunch, is_listy, \n",
    "                         ItemLists, TextList, SortishSampler, \n",
    "                         DataLoader, SortSampler, partial, \n",
    "                         pad_collate, TextLMDataBunch, data_collate, \n",
    "                         LanguageModelPreLoader )\n",
    "from Bio import Seq\n",
    "from Bio.Seq import Seq\n",
    "from Bio import SeqIO\n",
    "from Bio.SeqRecord import SeqRecord\n",
    "from Bio.SeqFeature import FeatureLocation, CompoundLocation\n",
    "import networkx as nx"
   ]
  },
  {
   "cell_type": "code",
   "execution_count": 4,
   "metadata": {},
   "outputs": [],
   "source": [
    "sys.path.append(\"../..\")\n",
    "from utils import ( _get_genomic_processor, get_model_clas, TextClasDataBunch, \n",
    "                    get_scores, split_data, GenomicTokenizer, get_model_LM, \n",
    "                   GenomicVocab, GenomicTextClasDataBunch)"
   ]
  },
  {
   "cell_type": "code",
   "execution_count": 5,
   "metadata": {},
   "outputs": [],
   "source": [
    "path = Path('/mnt/wd_4tb/shared_disk_wd4tb/mattscicluna/data/genomic_ulmfit/ecoli/')\n",
    "path_bact = Path('/mnt/wd_4tb/shared_disk_wd4tb/mattscicluna/data/genomic_ulmfit/bacterial_genomes/')"
   ]
  },
  {
   "cell_type": "markdown",
   "metadata": {},
   "source": [
    "# Classification"
   ]
  },
  {
   "cell_type": "code",
   "execution_count": 6,
   "metadata": {},
   "outputs": [],
   "source": [
    "classification_df = pd.read_csv(path/'e_coli_promoters_dataset.csv')"
   ]
  },
  {
   "cell_type": "code",
   "execution_count": 7,
   "metadata": {},
   "outputs": [
    {
     "data": {
      "text/html": [
       "<div>\n",
       "<style scoped>\n",
       "    .dataframe tbody tr th:only-of-type {\n",
       "        vertical-align: middle;\n",
       "    }\n",
       "\n",
       "    .dataframe tbody tr th {\n",
       "        vertical-align: top;\n",
       "    }\n",
       "\n",
       "    .dataframe thead th {\n",
       "        text-align: right;\n",
       "    }\n",
       "</style>\n",
       "<table border=\"1\" class=\"dataframe\">\n",
       "  <thead>\n",
       "    <tr style=\"text-align: right;\">\n",
       "      <th></th>\n",
       "      <th>Gene</th>\n",
       "      <th>Locus</th>\n",
       "      <th>Location</th>\n",
       "      <th>Sample Location</th>\n",
       "      <th>Orientation</th>\n",
       "      <th>Sequence</th>\n",
       "      <th>Promoter</th>\n",
       "      <th>Independent</th>\n",
       "      <th>set</th>\n",
       "    </tr>\n",
       "  </thead>\n",
       "  <tbody>\n",
       "    <tr>\n",
       "      <th>0</th>\n",
       "      <td>['yaaX']</td>\n",
       "      <td>['b0005']</td>\n",
       "      <td>[5233:5530](+)</td>\n",
       "      <td>[5133:5283](+)</td>\n",
       "      <td>forward</td>\n",
       "      <td>GTAACTTAGAGATTAGGATTGCGGAGAATAACAACCGCCGTTCTCA...</td>\n",
       "      <td>1</td>\n",
       "      <td>False</td>\n",
       "      <td>train</td>\n",
       "    </tr>\n",
       "    <tr>\n",
       "      <th>1</th>\n",
       "      <td>['talB']</td>\n",
       "      <td>['b0008']</td>\n",
       "      <td>[8237:9191](+)</td>\n",
       "      <td>[8137:8287](+)</td>\n",
       "      <td>forward</td>\n",
       "      <td>ATAACCGTCTTGTCGGCGGTTGCGCTGACGTTGCGTCGTGATATCA...</td>\n",
       "      <td>1</td>\n",
       "      <td>False</td>\n",
       "      <td>train</td>\n",
       "    </tr>\n",
       "    <tr>\n",
       "      <th>2</th>\n",
       "      <td>['yaaW']</td>\n",
       "      <td>['b0011']</td>\n",
       "      <td>[10642:11356](-)</td>\n",
       "      <td>[11306:11456](-)</td>\n",
       "      <td>reverse</td>\n",
       "      <td>TCAAAAATCACCTTTTCGGGTCATACGGTGAACTCATCGGATATGG...</td>\n",
       "      <td>1</td>\n",
       "      <td>False</td>\n",
       "      <td>train</td>\n",
       "    </tr>\n",
       "    <tr>\n",
       "      <th>3</th>\n",
       "      <td>['hokC']</td>\n",
       "      <td>['b4412']</td>\n",
       "      <td>[16750:16903](-)</td>\n",
       "      <td>[16853:17003](-)</td>\n",
       "      <td>reverse</td>\n",
       "      <td>AAAGCCCCGAGTGATATTTTACCATCAACCCGAGGCCTCCTATATG...</td>\n",
       "      <td>1</td>\n",
       "      <td>False</td>\n",
       "      <td>train</td>\n",
       "    </tr>\n",
       "    <tr>\n",
       "      <th>4</th>\n",
       "      <td>['nhaA']</td>\n",
       "      <td>['b0019']</td>\n",
       "      <td>[17488:18655](+)</td>\n",
       "      <td>[17388:17538](+)</td>\n",
       "      <td>forward</td>\n",
       "      <td>TAAAAAACGAATTATTCCTACACTATAATCTGATTTTAACGATGAT...</td>\n",
       "      <td>1</td>\n",
       "      <td>False</td>\n",
       "      <td>train</td>\n",
       "    </tr>\n",
       "  </tbody>\n",
       "</table>\n",
       "</div>"
      ],
      "text/plain": [
       "       Gene      Locus          Location   Sample Location Orientation  \\\n",
       "0  ['yaaX']  ['b0005']    [5233:5530](+)    [5133:5283](+)     forward   \n",
       "1  ['talB']  ['b0008']    [8237:9191](+)    [8137:8287](+)     forward   \n",
       "2  ['yaaW']  ['b0011']  [10642:11356](-)  [11306:11456](-)     reverse   \n",
       "3  ['hokC']  ['b4412']  [16750:16903](-)  [16853:17003](-)     reverse   \n",
       "4  ['nhaA']  ['b0019']  [17488:18655](+)  [17388:17538](+)     forward   \n",
       "\n",
       "                                            Sequence  Promoter  Independent  \\\n",
       "0  GTAACTTAGAGATTAGGATTGCGGAGAATAACAACCGCCGTTCTCA...         1        False   \n",
       "1  ATAACCGTCTTGTCGGCGGTTGCGCTGACGTTGCGTCGTGATATCA...         1        False   \n",
       "2  TCAAAAATCACCTTTTCGGGTCATACGGTGAACTCATCGGATATGG...         1        False   \n",
       "3  AAAGCCCCGAGTGATATTTTACCATCAACCCGAGGCCTCCTATATG...         1        False   \n",
       "4  TAAAAAACGAATTATTCCTACACTATAATCTGATTTTAACGATGAT...         1        False   \n",
       "\n",
       "     set  \n",
       "0  train  \n",
       "1  train  \n",
       "2  train  \n",
       "3  train  \n",
       "4  train  "
      ]
     },
     "execution_count": 7,
     "metadata": {},
     "output_type": "execute_result"
    }
   ],
   "source": [
    "classification_df.head()"
   ]
  },
  {
   "cell_type": "code",
   "execution_count": 8,
   "metadata": {},
   "outputs": [],
   "source": [
    "train_df = classification_df[classification_df.set == 'train']\n",
    "valid_df = classification_df[classification_df.set == 'valid']\n",
    "test_df = classification_df[classification_df.set == 'test']"
   ]
  },
  {
   "cell_type": "markdown",
   "metadata": {},
   "source": [
    "Here we create a dataloader with the vocabulary used for the bacterial ensemble model"
   ]
  },
  {
   "cell_type": "code",
   "execution_count": 9,
   "metadata": {},
   "outputs": [],
   "source": [
    "voc = np.load(path_bact/'bact_vocab.npy')\n",
    "model_vocab = GenomicVocab(voc)"
   ]
  },
  {
   "cell_type": "code",
   "execution_count": 10,
   "metadata": {},
   "outputs": [],
   "source": [
    "tok = Tokenizer(GenomicTokenizer, n_cpus=1, pre_rules=[], post_rules=[], special_cases=['xxpad'])\n",
    "data_clas = GenomicTextClasDataBunch.from_df(path, train_df, valid_df, tokenizer=tok, vocab=model_vocab,\n",
    "                                            text_cols='Sequence', label_cols='Promoter', bs=300)"
   ]
  },
  {
   "cell_type": "markdown",
   "metadata": {},
   "source": [
    "The classification model is structured exactly the same as in previous notebooks"
   ]
  },
  {
   "cell_type": "code",
   "execution_count": 11,
   "metadata": {},
   "outputs": [],
   "source": [
    "clas_config = dict(emb_sz=400, n_hid=1150, n_layers=3, pad_token=0, qrnn=False, output_p=0.4, \n",
    "                       hidden_p=0.2, input_p=0.6, embed_p=0.1, weight_p=0.5)\n",
    "drop_mult = 0.4"
   ]
  },
  {
   "cell_type": "code",
   "execution_count": 12,
   "metadata": {},
   "outputs": [],
   "source": [
    "learn = get_model_clas(data_clas, drop_mult, clas_config)"
   ]
  },
  {
   "cell_type": "code",
   "execution_count": 13,
   "metadata": {},
   "outputs": [
    {
     "data": {
      "text/plain": [
       "RNNLearner(data=GenomicTextClasDataBunch;\n",
       "\n",
       "Train: LabelList (6791 items)\n",
       "x: TextList\n",
       "GTAAC AACTT CTTAG TAGAG GAGAT GATTA TTAGG AGGAT GATTG TTGCG GCGGA GGAGA AGAAT AATAA TAACA ACAAC AACCG CCGCC GCCGT CGTTC TTCTC CTCAT CATCG TCGAG GAGTA GTAAT AATCT TCTCC TCCGG CGGAT GATAT TATCG TCGAC GACCC CCCAT CATAA TAACG ACGGG GGGCA GCAAT AATGA TGATA ATAAA AAAAG AAGGA GGAGT AGTAA TAACC ACCTG CTGTG GTGAA GAAAA AAAAG AAGAT GATGC TGCAA CAATC ATCTA CTATC ATCGT CGTAC TACTC CTCGC CGCAC CACTT CTTTC TTCCC CCCTG CTGGT GGTTC TTCTG CTGGT GGTCG,ATAAC AACCG CCGTC GTCTT CTTGT TGTCG TCGGC GGCGG CGGTT GTTGC TGCGC CGCTG CTGAC GACGT CGTTG TTGCG GCGTC GTCGT CGTGA TGATA ATATC ATCAT CATCA TCAGG AGGGC GGCAG CAGAC GACCG CCGGT GGTTA TTACA ACATC ATCCC CCCCC CCCTA CTAAC AACAA CAAGC AGCTG CTGTT GTTTA TTAAA AAAGA AGAGA AGAAA AAATA ATACT ACTAT TATCA TCATG ATGAC GACGG CGGAC GACAA CAAAT AATTG TTGAC GACCT CCTCC TCCCT CCTTC TTCGT CGTCA TCAGT AGTAC TACAC CACCA CCACC ACCGT CGTAG TAGTG GTGGC GGCCG,TCAAA AAAAA AAATC ATCAC CACCT CCTTT TTTTC TTCGG CGGGT GGTCA TCATA ATACG ACGGT GGTGA TGAAC AACTC CTCAT CATCG TCGGA GGATA ATATG ATGGC GGCCA CCACG ACGCT GCTGA TGAAA AAAAT AATTA TTATC ATCGG CGGCG GCGAC GACGA CGACT ACTAA TAACG ACGCC GCCAG CAGAA GAATA ATATA ATAGA AGAAG AAGCC GCCAC CACAA CAAAA AAAAA AAATG ATGAA GAATG ATGTT GTTAA TAATT ATTAC TACCT CCTGA TGAAT AATGA TGATT ATTCA TCAGA AGATC ATCTG CTGGA GGATT ATTTT TTTCT TCTTC TTCAG CAGCA GCATT,AAAGC AGCCC CCCCG CCGAG GAGTG GTGAT GATAT TATTT TTTTA TTACC ACCAT CATCA TCAAC AACCC CCCGA CGAGG AGGCC GCCTC CTCCT CCTAT TATAT TATGC TGCTG CTGAA GAACA ACACA ACATG ATGTA GTAGA AGAGT AGTGC TGCCT CCTCT TCTTA TTACT ACTGA TGACC ACCGT CGTAA TAAGG AGGTC GTCAA CAAGG AGGAG GAGAA GAAGA AGAGA AGAGC AGCAA CAATG ATGAA GAAGC AGCAG CAGCA GCATA ATAAG AAGGC GGCGA CGATG ATGAT GATTG TTGTC GTCGC CGCCC CCCTG CTGAT GATCG TCGTC GTCAT CATCT TCTGT TGTAT TATCA,TAAAA AAAAA AAACG ACGAA GAATT ATTAT TATTC TTCCT CCTAC TACAC CACTA CTATA ATAAT AATCT TCTGA TGATT ATTTT TTTAA TAACG ACGAT GATGA TGATT ATTCG TCGTG GTGCG GCGGG GGGGT GGTAA TAAAA AAATA ATAGT AGTAA TAAAA AAAAC AACGA CGATC ATCTA CTATT ATTCA TCACC ACCTG CTGAA GAAAG AAGAG GAGAA GAAAT AATAA TAAAA AAAAG AAGTG GTGAA GAAAC AACAT CATCT TCTGC TGCAT CATCG TCGAT GATTC TTCTT CTTTA TTAGC AGCAG CAGTG GTGAT GATGC TGCCT CCTCG TCGGG GGGAG GAGGC GGCAT CATTA\n",
       "y: CategoryList\n",
       "1,1,1,1,1\n",
       "Path: /mnt/wd_4tb/shared_disk_wd4tb/mattscicluna/data/genomic_ulmfit/ecoli;\n",
       "\n",
       "Valid: LabelList (750 items)\n",
       "x: TextList\n",
       "TTGCC GCCCA CCACG ACGGT GGTCG TCGCC GCCCG CCGGT GGTAG TAGCT GCTCC TCCTG CTGAT GATGC TGCCA CCAAT AATGA TGAAC AACCA CCAGT AGTGA TGAAA AAACT ACTGG TGGCG GCGCA GCAGA AGACC ACCAT CATTG TTGCC GCCGA CGATA ATATG ATGGC GGCGC CGCTG CTGCG GCGTT GTTAT TATGT TGTGG TGGTT GTTAT TATCA TCACC ACCTC CTCCG CCGTT GTTGA TGACC ACCGT CGTGA TGATG ATGAC GACCT CCTGC TGCGC CGCGA CGATG ATGGC GGCGG CGGTG GTGCC GCCCA CCAGC AGCAC CACTT CTTTG TTGCG GCGGA GGATT ATTGC,GTTAT TATAT TATTC TTCCC CCCTG CTGAC GACCC CCCAT CATTG TTGTT GTTTA TTATT ATTCG TCGCA GCAAA AAAGG AGGCC GCCAG CAGGG GGGTG GTGTC GTCAC CACTC CTCCT CCTAC TACCG CCGCA GCATT ATTTG TTGCG GCGAT GATGC TGCAT CATCT TCTAC TACAT CATGA TGAGT AGTAT TATAT TATCA TCAGT AGTCA TCAGG AGGGC GGCCT CCTTG TTGAG GAGTC GTCCA CCATT ATTCT TCTTG TTGGC GGCGC CGCGC CGCTG CTGGA GGATA ATATC ATCGA CGAAG AAGGA GGAAG AAGCT GCTAT TATGA TGATA ATAAG AAGCA GCAAC AACGA CGAAC,ATTCA TCACC ACCGA CGATA ATACC ACCCG CCGCG GCGAT GATGA TGATA ATAGT AGTAC TACCC CCCTT CTTGA TGATG ATGAA GAAAT AATCT TCTGG TGGCT GCTGG TGGTC GTCGA CGAGC AGCAC CACTA CTATC ATCCG CCGGT GGTAT TATTC TTCAC CACCC CCCAA CAAGG AGGTC GTCAG CAGGC GGCAG CAGGA GGAAA AAAAG AAGCG GCGGA GGAGC AGCAC CACAT CATTT TTTTA TTAAT AATGC TGCCG CCGGG GGGTG GTGAT GATAT TATTC TTCCG CCGGT GGTGA TGATC ATCCA CCAGA AGAGC AGCGA CGATC ATCGC CGCGG CGGTG GTGGG GGGCA GCAGG,CAGGC GGCGT CGTTA TTACC ACCTG CTGAG GAGCT GCTGG TGGTT GTTGA TGATC ATCAG CAGGT GGTGG TGGTT GTTGA TGAAG AAGTG GTGGT GGTAC TACAG CAGCG GCGCC GCCAT CATGC TGCGC CGCCA CCAGG AGGTG GTGAC GACTA CTACA ACACC ACCCC CCCAA CAACG ACGGT GGTAA TAAAA AAACC ACCAA CAAGC AGCAG CAGCA GCAAA AAAGG AGGCA GCAAC AACTA CTACC ACCAC CACTC CTCGG CGGTA GTATC ATCTA CTATC ATCAC CACTA CTATC ATCAA CAACG ACGCC GCCAC CACTC CTCAT CATAT TATCG TCGAG GAGCA GCAGG AGGTT GTTGA,GCATT ATTGA TGATC ATCCG CCGTG GTGAC GACGT CGTAC TACCG CCGAA GAATG ATGAA GAATA ATACT ACTCG TCGAT GATCT TCTAT TATAA TAAAG AAGAA GAAAA AAAAG AAGAA GAATT ATTTA TTACG ACGTT GTTTA TTAAC AACGG CGGTA GTATT ATTCG TCGCC GCCAG CAGCT GCTGA TGAAC AACCG CCGTA GTAAC AACGG CGGCC GCCTG CTGTT GTTAT TATGG TGGGA GGATA ATAAC AACAG CAGCC GCCTG CTGAA GAATG ATGTC GTCGA CGACG ACGGC GGCAT CATCA TCAAA AAAAC AACCG CCGGA GGACA ACACA ACACT ACTGA TGACA ACAAA AAAGC\n",
       "y: CategoryList\n",
       "0,0,0,0,0\n",
       "Path: /mnt/wd_4tb/shared_disk_wd4tb/mattscicluna/data/genomic_ulmfit/ecoli;\n",
       "\n",
       "Test: None, model=SequentialRNN(\n",
       "  (0): MultiBatchEncoder(\n",
       "    (module): AWD_LSTM(\n",
       "      (encoder): Embedding(1025, 400, padding_idx=0)\n",
       "      (encoder_dp): EmbeddingDropout(\n",
       "        (emb): Embedding(1025, 400, padding_idx=0)\n",
       "      )\n",
       "      (rnns): ModuleList(\n",
       "        (0): WeightDropout(\n",
       "          (module): LSTM(400, 1150, batch_first=True)\n",
       "        )\n",
       "        (1): WeightDropout(\n",
       "          (module): LSTM(1150, 1150, batch_first=True)\n",
       "        )\n",
       "        (2): WeightDropout(\n",
       "          (module): LSTM(1150, 400, batch_first=True)\n",
       "        )\n",
       "      )\n",
       "      (input_dp): RNNDropout()\n",
       "      (hidden_dps): ModuleList(\n",
       "        (0): RNNDropout()\n",
       "        (1): RNNDropout()\n",
       "        (2): RNNDropout()\n",
       "      )\n",
       "    )\n",
       "  )\n",
       "  (1): PoolingLinearClassifier(\n",
       "    (layers): Sequential(\n",
       "      (0): BatchNorm1d(1200, eps=1e-05, momentum=0.1, affine=True, track_running_stats=True)\n",
       "      (1): Dropout(p=0.16000000000000003, inplace=False)\n",
       "      (2): Linear(in_features=1200, out_features=50, bias=True)\n",
       "      (3): ReLU(inplace=True)\n",
       "      (4): BatchNorm1d(50, eps=1e-05, momentum=0.1, affine=True, track_running_stats=True)\n",
       "      (5): Dropout(p=0.1, inplace=False)\n",
       "      (6): Linear(in_features=50, out_features=2, bias=True)\n",
       "    )\n",
       "  )\n",
       "), opt_func=functools.partial(<class 'torch.optim.adam.Adam'>, betas=(0.9, 0.99)), loss_func=FlattenedLoss of CrossEntropyLoss(), metrics=[<function accuracy at 0x7f01a70bf680>], true_wd=True, bn_wd=True, wd=0.01, train_bn=True, path=PosixPath('/mnt/wd_4tb/shared_disk_wd4tb/mattscicluna/data/genomic_ulmfit/ecoli'), model_dir='models', callback_fns=[functools.partial(<class 'fastai.basic_train.Recorder'>, add_time=True, silent=False)], callbacks=[RNNTrainer\n",
       "learn: ...\n",
       "alpha: 2.0\n",
       "beta: 1.0], layer_groups=[Sequential(\n",
       "  (0): Embedding(1025, 400, padding_idx=0)\n",
       "  (1): EmbeddingDropout(\n",
       "    (emb): Embedding(1025, 400, padding_idx=0)\n",
       "  )\n",
       "), Sequential(\n",
       "  (0): WeightDropout(\n",
       "    (module): LSTM(400, 1150, batch_first=True)\n",
       "  )\n",
       "  (1): RNNDropout()\n",
       "), Sequential(\n",
       "  (0): WeightDropout(\n",
       "    (module): LSTM(1150, 1150, batch_first=True)\n",
       "  )\n",
       "  (1): RNNDropout()\n",
       "), Sequential(\n",
       "  (0): WeightDropout(\n",
       "    (module): LSTM(1150, 400, batch_first=True)\n",
       "  )\n",
       "  (1): RNNDropout()\n",
       "), Sequential(\n",
       "  (0): PoolingLinearClassifier(\n",
       "    (layers): Sequential(\n",
       "      (0): BatchNorm1d(1200, eps=1e-05, momentum=0.1, affine=True, track_running_stats=True)\n",
       "      (1): Dropout(p=0.16000000000000003, inplace=False)\n",
       "      (2): Linear(in_features=1200, out_features=50, bias=True)\n",
       "      (3): ReLU(inplace=True)\n",
       "      (4): BatchNorm1d(50, eps=1e-05, momentum=0.1, affine=True, track_running_stats=True)\n",
       "      (5): Dropout(p=0.1, inplace=False)\n",
       "      (6): Linear(in_features=50, out_features=2, bias=True)\n",
       "    )\n",
       "  )\n",
       ")], add_time=True, silent=False)"
      ]
     },
     "execution_count": 13,
     "metadata": {},
     "output_type": "execute_result"
    }
   ],
   "source": [
    "learn.load_encoder('coli_only_LM_enc')"
   ]
  },
  {
   "cell_type": "code",
   "execution_count": 14,
   "metadata": {},
   "outputs": [],
   "source": [
    "learn.load_encoder('/mnt/wd_4tb/shared_disk_wd4tb/mattscicluna/data/genomic_ulmfit/bacterial_genomes/models/b2_enc')\n",
    "learn.freeze()"
   ]
  },
  {
   "cell_type": "code",
   "execution_count": 15,
   "metadata": {},
   "outputs": [
    {
     "name": "stdout",
     "output_type": "stream",
     "text": [
      "model has vocab of: 1025\n",
      "= 4**5 (4 diff base pairs, 5 mer) + 1 (pad)\n",
      "embedding size = 400\n"
     ]
    }
   ],
   "source": [
    "# get info\n",
    "#?learn\n",
    "#??learn\n",
    "#learn?? gets source code\n",
    "#??np\n",
    "#import fastai\n",
    "#fastai.text.learner._model_meta\n",
    "print('model has vocab of: {}'.format(len(model_vocab.stoi.keys())))\n",
    "print('= 4**5 (4 diff base pairs, 5 mer) + 1 (pad)')\n",
    "print('embedding size = {}'.format(clas_config['emb_sz']))"
   ]
  },
  {
   "cell_type": "code",
   "execution_count": 16,
   "metadata": {},
   "outputs": [
    {
     "data": {
      "text/html": [
       "\n",
       "    <div>\n",
       "        <style>\n",
       "            /* Turns off some styling */\n",
       "            progress {\n",
       "                /* gets rid of default border in Firefox and Opera. */\n",
       "                border: none;\n",
       "                /* Needs to be in here for Safari polyfill so background images work as expected. */\n",
       "                background-size: auto;\n",
       "            }\n",
       "            .progress-bar-interrupted, .progress-bar-interrupted::-webkit-progress-bar {\n",
       "                background: #F44336;\n",
       "            }\n",
       "        </style>\n",
       "      <progress value='4' class='' max='5' style='width:300px; height:20px; vertical-align: middle;'></progress>\n",
       "      80.00% [4/5 00:47<00:11]\n",
       "    </div>\n",
       "    \n",
       "<table border=\"1\" class=\"dataframe\">\n",
       "  <thead>\n",
       "    <tr style=\"text-align: left;\">\n",
       "      <th>epoch</th>\n",
       "      <th>train_loss</th>\n",
       "      <th>valid_loss</th>\n",
       "      <th>accuracy</th>\n",
       "      <th>time</th>\n",
       "    </tr>\n",
       "  </thead>\n",
       "  <tbody>\n",
       "    <tr>\n",
       "      <td>0</td>\n",
       "      <td>0.757679</td>\n",
       "      <td>#na#</td>\n",
       "      <td>00:12</td>\n",
       "    </tr>\n",
       "    <tr>\n",
       "      <td>1</td>\n",
       "      <td>0.714812</td>\n",
       "      <td>#na#</td>\n",
       "      <td>00:10</td>\n",
       "    </tr>\n",
       "    <tr>\n",
       "      <td>2</td>\n",
       "      <td>0.612797</td>\n",
       "      <td>#na#</td>\n",
       "      <td>00:12</td>\n",
       "    </tr>\n",
       "    <tr>\n",
       "      <td>3</td>\n",
       "      <td>0.552055</td>\n",
       "      <td>#na#</td>\n",
       "      <td>00:10</td>\n",
       "    </tr>\n",
       "  </tbody>\n",
       "</table><p>\n",
       "\n",
       "    <div>\n",
       "        <style>\n",
       "            /* Turns off some styling */\n",
       "            progress {\n",
       "                /* gets rid of default border in Firefox and Opera. */\n",
       "                border: none;\n",
       "                /* Needs to be in here for Safari polyfill so background images work as expected. */\n",
       "                background-size: auto;\n",
       "            }\n",
       "            .progress-bar-interrupted, .progress-bar-interrupted::-webkit-progress-bar {\n",
       "                background: #F44336;\n",
       "            }\n",
       "        </style>\n",
       "      <progress value='5' class='' max='22' style='width:300px; height:20px; vertical-align: middle;'></progress>\n",
       "      22.73% [5/22 00:03<00:10 2.1495]\n",
       "    </div>\n",
       "    "
      ],
      "text/plain": [
       "<IPython.core.display.HTML object>"
      ]
     },
     "metadata": {},
     "output_type": "display_data"
    },
    {
     "name": "stdout",
     "output_type": "stream",
     "text": [
      "LR Finder is complete, type {learner_name}.recorder.plot() to see the graph.\n"
     ]
    },
    {
     "data": {
      "image/png": "[encoded data removed]",
      "text/plain": [
       "<Figure size 432x288 with 1 Axes>"
      ]
     },
     "metadata": {
      "needs_background": "light"
     },
     "output_type": "display_data"
    }
   ],
   "source": [
    "learn.lr_find()\n",
    "learn.recorder.plot()"
   ]
  },
  {
   "cell_type": "markdown",
   "metadata": {},
   "source": [
    "Here we follow the same training procedure as before. After 3 epochs on the training data, this model is performing better than the previous. This is entirely due to starting with a better language model."
   ]
  },
  {
   "cell_type": "code",
   "execution_count": 17,
   "metadata": {},
   "outputs": [
    {
     "data": {
      "text/html": [
       "<table border=\"1\" class=\"dataframe\">\n",
       "  <thead>\n",
       "    <tr style=\"text-align: left;\">\n",
       "      <th>epoch</th>\n",
       "      <th>train_loss</th>\n",
       "      <th>valid_loss</th>\n",
       "      <th>accuracy</th>\n",
       "      <th>time</th>\n",
       "    </tr>\n",
       "  </thead>\n",
       "  <tbody>\n",
       "    <tr>\n",
       "      <td>0</td>\n",
       "      <td>0.508745</td>\n",
       "      <td>0.538421</td>\n",
       "      <td>0.786667</td>\n",
       "      <td>00:13</td>\n",
       "    </tr>\n",
       "    <tr>\n",
       "      <td>1</td>\n",
       "      <td>0.456752</td>\n",
       "      <td>0.416247</td>\n",
       "      <td>0.825333</td>\n",
       "      <td>00:13</td>\n",
       "    </tr>\n",
       "    <tr>\n",
       "      <td>2</td>\n",
       "      <td>0.425982</td>\n",
       "      <td>0.396747</td>\n",
       "      <td>0.825333</td>\n",
       "      <td>00:11</td>\n",
       "    </tr>\n",
       "  </tbody>\n",
       "</table>"
      ],
      "text/plain": [
       "<IPython.core.display.HTML object>"
      ]
     },
     "metadata": {},
     "output_type": "display_data"
    }
   ],
   "source": [
    "learn.fit_one_cycle(3, 2e-2, moms=(0.8,0.7))"
   ]
  },
  {
   "cell_type": "code",
   "execution_count": 18,
   "metadata": {},
   "outputs": [
    {
     "data": {
      "text/html": [
       "<table border=\"1\" class=\"dataframe\">\n",
       "  <thead>\n",
       "    <tr style=\"text-align: left;\">\n",
       "      <th>epoch</th>\n",
       "      <th>train_loss</th>\n",
       "      <th>valid_loss</th>\n",
       "      <th>accuracy</th>\n",
       "      <th>time</th>\n",
       "    </tr>\n",
       "  </thead>\n",
       "  <tbody>\n",
       "    <tr>\n",
       "      <td>0</td>\n",
       "      <td>0.396260</td>\n",
       "      <td>0.499504</td>\n",
       "      <td>0.821333</td>\n",
       "      <td>00:15</td>\n",
       "    </tr>\n",
       "    <tr>\n",
       "      <td>1</td>\n",
       "      <td>0.366376</td>\n",
       "      <td>0.342171</td>\n",
       "      <td>0.849333</td>\n",
       "      <td>00:15</td>\n",
       "    </tr>\n",
       "    <tr>\n",
       "      <td>2</td>\n",
       "      <td>0.321822</td>\n",
       "      <td>0.275099</td>\n",
       "      <td>0.888000</td>\n",
       "      <td>00:15</td>\n",
       "    </tr>\n",
       "  </tbody>\n",
       "</table>"
      ],
      "text/plain": [
       "<IPython.core.display.HTML object>"
      ]
     },
     "metadata": {},
     "output_type": "display_data"
    }
   ],
   "source": [
    "learn.freeze_to(-2)\n",
    "learn.fit_one_cycle(3, slice(1e-2/(2.6**4),1e-2), moms=(0.8,0.7))"
   ]
  },
  {
   "cell_type": "code",
   "execution_count": 19,
   "metadata": {},
   "outputs": [
    {
     "data": {
      "text/html": [
       "<table border=\"1\" class=\"dataframe\">\n",
       "  <thead>\n",
       "    <tr style=\"text-align: left;\">\n",
       "      <th>epoch</th>\n",
       "      <th>train_loss</th>\n",
       "      <th>valid_loss</th>\n",
       "      <th>accuracy</th>\n",
       "      <th>time</th>\n",
       "    </tr>\n",
       "  </thead>\n",
       "  <tbody>\n",
       "    <tr>\n",
       "      <td>0</td>\n",
       "      <td>0.277434</td>\n",
       "      <td>0.318104</td>\n",
       "      <td>0.872000</td>\n",
       "      <td>00:24</td>\n",
       "    </tr>\n",
       "    <tr>\n",
       "      <td>1</td>\n",
       "      <td>0.279993</td>\n",
       "      <td>0.260006</td>\n",
       "      <td>0.897333</td>\n",
       "      <td>00:24</td>\n",
       "    </tr>\n",
       "    <tr>\n",
       "      <td>2</td>\n",
       "      <td>0.236075</td>\n",
       "      <td>0.215157</td>\n",
       "      <td>0.913333</td>\n",
       "      <td>00:24</td>\n",
       "    </tr>\n",
       "  </tbody>\n",
       "</table>"
      ],
      "text/plain": [
       "<IPython.core.display.HTML object>"
      ]
     },
     "metadata": {},
     "output_type": "display_data"
    }
   ],
   "source": [
    "learn.freeze_to(-3)\n",
    "learn.fit_one_cycle(3, slice(5e-3/(2.6**4),5e-3), moms=(0.8,0.7))"
   ]
  },
  {
   "cell_type": "code",
   "execution_count": 20,
   "metadata": {},
   "outputs": [
    {
     "data": {
      "text/html": [
       "<table border=\"1\" class=\"dataframe\">\n",
       "  <thead>\n",
       "    <tr style=\"text-align: left;\">\n",
       "      <th>epoch</th>\n",
       "      <th>train_loss</th>\n",
       "      <th>valid_loss</th>\n",
       "      <th>accuracy</th>\n",
       "      <th>time</th>\n",
       "    </tr>\n",
       "  </thead>\n",
       "  <tbody>\n",
       "    <tr>\n",
       "      <td>0</td>\n",
       "      <td>0.166351</td>\n",
       "      <td>0.249429</td>\n",
       "      <td>0.894667</td>\n",
       "      <td>00:33</td>\n",
       "    </tr>\n",
       "    <tr>\n",
       "      <td>1</td>\n",
       "      <td>0.167716</td>\n",
       "      <td>0.262893</td>\n",
       "      <td>0.893333</td>\n",
       "      <td>00:33</td>\n",
       "    </tr>\n",
       "    <tr>\n",
       "      <td>2</td>\n",
       "      <td>0.154514</td>\n",
       "      <td>0.185165</td>\n",
       "      <td>0.929333</td>\n",
       "      <td>00:33</td>\n",
       "    </tr>\n",
       "    <tr>\n",
       "      <td>3</td>\n",
       "      <td>0.135568</td>\n",
       "      <td>0.189102</td>\n",
       "      <td>0.928000</td>\n",
       "      <td>00:33</td>\n",
       "    </tr>\n",
       "    <tr>\n",
       "      <td>4</td>\n",
       "      <td>0.122304</td>\n",
       "      <td>0.183790</td>\n",
       "      <td>0.930667</td>\n",
       "      <td>00:33</td>\n",
       "    </tr>\n",
       "  </tbody>\n",
       "</table>"
      ],
      "text/plain": [
       "<IPython.core.display.HTML object>"
      ]
     },
     "metadata": {},
     "output_type": "display_data"
    }
   ],
   "source": [
    "learn.unfreeze()\n",
    "learn.fit_one_cycle(5, slice(1e-3/(2.6**4),1e-3), moms=(0.8,0.7))"
   ]
  },
  {
   "cell_type": "code",
   "execution_count": 21,
   "metadata": {},
   "outputs": [
    {
     "data": {
      "text/html": [
       "<table border=\"1\" class=\"dataframe\">\n",
       "  <thead>\n",
       "    <tr style=\"text-align: left;\">\n",
       "      <th>epoch</th>\n",
       "      <th>train_loss</th>\n",
       "      <th>valid_loss</th>\n",
       "      <th>accuracy</th>\n",
       "      <th>time</th>\n",
       "    </tr>\n",
       "  </thead>\n",
       "  <tbody>\n",
       "    <tr>\n",
       "      <td>0</td>\n",
       "      <td>0.101659</td>\n",
       "      <td>0.183431</td>\n",
       "      <td>0.928000</td>\n",
       "      <td>00:33</td>\n",
       "    </tr>\n",
       "    <tr>\n",
       "      <td>1</td>\n",
       "      <td>0.103850</td>\n",
       "      <td>0.185071</td>\n",
       "      <td>0.929333</td>\n",
       "      <td>00:33</td>\n",
       "    </tr>\n",
       "    <tr>\n",
       "      <td>2</td>\n",
       "      <td>0.099290</td>\n",
       "      <td>0.191420</td>\n",
       "      <td>0.932000</td>\n",
       "      <td>00:32</td>\n",
       "    </tr>\n",
       "    <tr>\n",
       "      <td>3</td>\n",
       "      <td>0.095385</td>\n",
       "      <td>0.184863</td>\n",
       "      <td>0.933333</td>\n",
       "      <td>00:33</td>\n",
       "    </tr>\n",
       "    <tr>\n",
       "      <td>4</td>\n",
       "      <td>0.093220</td>\n",
       "      <td>0.184833</td>\n",
       "      <td>0.933333</td>\n",
       "      <td>00:33</td>\n",
       "    </tr>\n",
       "  </tbody>\n",
       "</table>"
      ],
      "text/plain": [
       "<IPython.core.display.HTML object>"
      ]
     },
     "metadata": {},
     "output_type": "display_data"
    }
   ],
   "source": [
    "learn.fit_one_cycle(5, slice(1e-4/(2.6**4),1e-4), moms=(0.8,0.7))"
   ]
  },
  {
   "cell_type": "code",
   "execution_count": 22,
   "metadata": {},
   "outputs": [],
   "source": [
    "learn.save('/mnt/wd_4tb/shared_disk_wd4tb/mattscicluna/data/genomic_ulmfit/ecoli/models/coli_bact_pretrain')"
   ]
  },
  {
   "cell_type": "markdown",
   "metadata": {},
   "source": [
    "# Test"
   ]
  },
  {
   "cell_type": "code",
   "execution_count": 23,
   "metadata": {},
   "outputs": [],
   "source": [
    "data_clas = GenomicTextClasDataBunch.from_df(path, train_df, test_df, tokenizer=tok, vocab=model_vocab,\n",
    "                                            text_cols='Sequence', label_cols='Promoter', bs=300)\n",
    "learn.data = data_clas"
   ]
  },
  {
   "cell_type": "code",
   "execution_count": 24,
   "metadata": {},
   "outputs": [
    {
     "data": {
      "text/html": [],
      "text/plain": [
       "<IPython.core.display.HTML object>"
      ]
     },
     "metadata": {},
     "output_type": "display_data"
    },
    {
     "name": "stdout",
     "output_type": "stream",
     "text": [
      "Accuracy: 0.9349397590361446\n",
      "False Positives: 0.03855421686746988\n",
      "False Negatives: 0.02650602409638554\n",
      "Recall: 0.946987951807229\n",
      "Precision: 0.9247058823529412\n",
      "Specificity: 0.9228915662650602\n",
      "MCC: 0.870132169694832\n"
     ]
    }
   ],
   "source": [
    "get_scores(learn)"
   ]
  },
  {
   "cell_type": "markdown",
   "metadata": {},
   "source": [
    "The bacterial ensemble pretrained model easily beats the E. coli genome pretrained model. The E. coli pretrained model trained to a validation loss of 0.24, while the ensemble pretrained model trained to a validation loss of \n",
    "\n",
    "Comparing this model to the E. coli pretrained model, accuracy increased from 91.9% to 97.3%, precision increased from 0.94 to 0.98, recall increased from 0.89 to 0.96, and MCC increased from 0.839 to 0.947.\n",
    "\n",
    "The models were trained on the classification dataset for the same number of epochs. The increased performance shows the impact of a well trained language model on this technique. In addition to improved performance, the ensemble pretrained model overfit less and required less regularization (lower dropout)."
   ]
  }
 ],
 "metadata": {
  "kernelspec": {
   "display_name": "Python (genomic_ulmfit)",
   "language": "python",
   "name": "genomic_ulmfit"
  },
  "language_info": {
   "codemirror_mode": {
    "name": "ipython",
    "version": 3
   },
   "file_extension": ".py",
   "mimetype": "text/x-python",
   "name": "python",
   "nbconvert_exporter": "python",
   "pygments_lexer": "ipython3",
   "version": "3.7.7"
  }
 },
 "nbformat": 4,
 "nbformat_minor": 4
}
